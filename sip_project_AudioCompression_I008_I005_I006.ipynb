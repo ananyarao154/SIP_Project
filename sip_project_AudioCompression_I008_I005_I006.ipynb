{
  "nbformat": 4,
  "nbformat_minor": 0,
  "metadata": {
    "colab": {
      "provenance": []
    },
    "kernelspec": {
      "name": "python3",
      "display_name": "Python 3"
    },
    "language_info": {
      "name": "python"
    }
  },
  "cells": [
    {
      "cell_type": "code",
      "source": [
        "import numpy as np\n",
        "import librosa\n",
        "from scipy.io.wavfile import write\n",
        "import pywt\n",
        "import os\n",
        "\n",
        "# DFT from scratch\n",
        "def dft(x):\n",
        "    N = len(x)\n",
        "    n = np.arange(N)\n",
        "    k = n.reshape((N, 1))\n",
        "    M = np.exp(-2j * np.pi * n * k / N)\n",
        "    return np.dot(M, x)\n",
        "\n",
        "# FFT from scratch, adjusted to handle complex inputs\n",
        "def fft(x):\n",
        "    N = len(x)\n",
        "    if N <= 1: return x\n",
        "    if not isinstance(x[0], complex):  # Ensure input is complex\n",
        "        x = np.asarray(x, dtype=complex)\n",
        "    even = fft(x[0::2])\n",
        "    odd = fft(x[1::2])\n",
        "    T = np.exp(-2j * np.pi * np.arange(N // 2) / N) * odd\n",
        "    return np.concatenate([even + T, even - T])\n",
        "\n",
        "# Ensure audio_data length is a power of two\n",
        "def adjust_audio_length(audio_data):\n",
        "    N = len(audio_data)\n",
        "    N_adjusted = 2**int(np.log2(N))\n",
        "    return audio_data[:N_adjusted]\n",
        "\n",
        "# Compress audio data using DFT\n",
        "def compress_audio(audio_data, sample_rate, chunk_size=1024, compression_ratio=0.9):\n",
        "    audio_data = adjust_audio_length(audio_data)\n",
        "    num_chunks = int(len(audio_data) / chunk_size)\n",
        "    audio_chunks = np.array_split(audio_data, num_chunks)\n",
        "    compressed_chunks = []\n",
        "    for chunk in audio_chunks:\n",
        "        spectrum = fft(chunk)\n",
        "        num_bins_to_keep = int(len(spectrum) * (1 - compression_ratio))\n",
        "        spectrum[num_bins_to_keep:] = np.zeros(len(spectrum) - num_bins_to_keep, dtype=complex)\n",
        "        compressed_chunk = np.fft.ifft(spectrum)\n",
        "        compressed_chunks.append(compressed_chunk.real)\n",
        "    return np.concatenate(compressed_chunks)\n",
        "\n",
        "# DWT Compression Function\n",
        "def compress_audio_dwt(audio_data, sample_rate, compression_ratio=0.9, wavelet='db1'):\n",
        "    coeffs = pywt.wavedec(audio_data, wavelet)\n",
        "    threshold = np.quantile(np.abs(coeffs[-1]), 1 - compression_ratio)\n",
        "    compressed_coeffs = [pywt.threshold(c, threshold, mode='soft') for c in coeffs]\n",
        "    compressed_audio = pywt.waverec(compressed_coeffs, wavelet)\n",
        "    return compressed_audio[:len(audio_data)]\n",
        "\n",
        "# Load the audio signal\n",
        "audio_file = '/content/drive/MyDrive/audio_SIP_PROJECT/noncompressed'\n",
        "audio_data, sample_rate = librosa.load(audio_file, sr=None, mono=True)\n",
        "\n",
        "# Apply DFT compression\n",
        "compressed_audio_dft = compress_audio(audio_data, sample_rate)\n",
        "output_path_dft = '/content/drive/MyDrive/audio_SIP_PROJECT/compressed_audio_dft.wav'\n",
        "write(output_path_dft, sample_rate, compressed_audio_dft.astype(np.int16))\n",
        "\n",
        "# Apply DWT compression\n",
        "compressed_audio_dwt = compress_audio_dwt(audio_data, sample_rate)\n",
        "output_path_dwt = '/content/drive/MyDrive/audio_SIP_PROJECT/compressed_audio_dwt.wav'\n",
        "write(output_path_dwt, sample_rate, compressed_audio_dwt.astype(np.int16))\n",
        "\n",
        "# Calculate and print file sizes and compression percentages\n",
        "original_size = os.path.getsize(audio_file)\n",
        "compressed_sizes = {\n",
        "    'DFT': os.path.getsize(output_path_dft),\n",
        "    'DWT': os.path.getsize(output_path_dwt)\n",
        "}\n",
        "\n",
        "print(\"Original file size:\", original_size, \"bytes\")\n",
        "for method, compressed_size in compressed_sizes.items():\n",
        "    compression_percentage = (1 - (compressed_size / original_size)) * 100\n",
        "    print(f\"{method} Compressed file size:\", compressed_size, \"bytes\")\n",
        "    print(f\"{method} Compression percentage:\", compression_percentage, \"%\")\n"
      ],
      "metadata": {
        "colab": {
          "base_uri": "https://localhost:8080/"
        },
        "id": "65laBhoWxoig",
        "outputId": "3b8e5d04-ae1c-4cc2-acd2-3d572bf6a38f"
      },
      "execution_count": 3,
      "outputs": [
        {
          "output_type": "stream",
          "name": "stdout",
          "text": [
            "Original file size: 7410316 bytes\n",
            "DFT Compressed file size: 2097196 bytes\n",
            "DFT Compression percentage: 71.69896668374196 %\n",
            "DWT Compressed file size: 3705180 bytes\n",
            "DWT Compression percentage: 49.999703116574246 %\n"
          ]
        }
      ]
    },
    {
      "cell_type": "code",
      "source": [],
      "metadata": {
        "id": "g0JTsb80zBQe"
      },
      "execution_count": null,
      "outputs": []
    }
  ]
}